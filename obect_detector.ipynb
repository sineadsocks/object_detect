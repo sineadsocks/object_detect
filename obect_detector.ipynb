{
 "cells": [
  {
   "cell_type": "markdown",
   "metadata": {},
   "source": [
    "# Detecting Signatures From Scanned Documents\n",
    "\n",
    "End-to-end object detection pipeline"
   ]
  },
  {
   "cell_type": "code",
   "execution_count": 8,
   "metadata": {},
   "outputs": [
    {
     "name": "stdout",
     "output_type": "stream",
     "text": [
      "Requirement already satisfied: labelme in c:\\users\\sinea\\appdata\\local\\packages\\pythonsoftwarefoundation.python.3.8_qbz5n2kfra8p0\\localcache\\local-packages\\python38\\site-packages (5.3.1)\n",
      "Requirement already satisfied: albumentations in c:\\users\\sinea\\appdata\\local\\packages\\pythonsoftwarefoundation.python.3.8_qbz5n2kfra8p0\\localcache\\local-packages\\python38\\site-packages (1.3.1)\n",
      "Collecting tensorflow\n",
      "  Obtaining dependency information for tensorflow from https://files.pythonhosted.org/packages/fb/59/3eb58629e3749d9f4fc1e522487af369f9bd4c451f465d3054961fab6bf8/tensorflow-2.13.1-cp38-cp38-win_amd64.whl.metadata\n",
      "  Using cached tensorflow-2.13.1-cp38-cp38-win_amd64.whl.metadata (2.6 kB)\n",
      "Collecting tensorflow-gpu\n",
      "  Using cached tensorflow-gpu-2.12.0.tar.gz (2.6 kB)\n",
      "  Installing build dependencies: started\n",
      "  Installing build dependencies: finished with status 'done'\n",
      "  Getting requirements to build wheel: started\n",
      "  Getting requirements to build wheel: finished with status 'error'\n",
      "Note: you may need to restart the kernel to use updated packages.\n"
     ]
    },
    {
     "name": "stderr",
     "output_type": "stream",
     "text": [
      "  error: subprocess-exited-with-error\n",
      "  \n",
      "  × Getting requirements to build wheel did not run successfully.\n",
      "  │ exit code: 1\n",
      "  ╰─> [50 lines of output]\n",
      "      Traceback (most recent call last):\n",
      "        File \"C:\\Users\\sinea\\AppData\\Local\\Temp\\pip-build-env-so66917l\\overlay\\Lib\\site-packages\\setuptools\\_vendor\\packaging\\requirements.py\", line 35, in __init__\n",
      "          parsed = _parse_requirement(requirement_string)\n",
      "        File \"C:\\Users\\sinea\\AppData\\Local\\Temp\\pip-build-env-so66917l\\overlay\\Lib\\site-packages\\setuptools\\_vendor\\packaging\\_parser.py\", line 64, in parse_requirement\n",
      "          return _parse_requirement(Tokenizer(source, rules=DEFAULT_RULES))\n",
      "        File \"C:\\Users\\sinea\\AppData\\Local\\Temp\\pip-build-env-so66917l\\overlay\\Lib\\site-packages\\setuptools\\_vendor\\packaging\\_parser.py\", line 82, in _parse_requirement\n",
      "          url, specifier, marker = _parse_requirement_details(tokenizer)\n",
      "        File \"C:\\Users\\sinea\\AppData\\Local\\Temp\\pip-build-env-so66917l\\overlay\\Lib\\site-packages\\setuptools\\_vendor\\packaging\\_parser.py\", line 126, in _parse_requirement_details\n",
      "          marker = _parse_requirement_marker(\n",
      "        File \"C:\\Users\\sinea\\AppData\\Local\\Temp\\pip-build-env-so66917l\\overlay\\Lib\\site-packages\\setuptools\\_vendor\\packaging\\_parser.py\", line 147, in _parse_requirement_marker\n",
      "          tokenizer.raise_syntax_error(\n",
      "        File \"C:\\Users\\sinea\\AppData\\Local\\Temp\\pip-build-env-so66917l\\overlay\\Lib\\site-packages\\setuptools\\_vendor\\packaging\\_tokenizer.py\", line 165, in raise_syntax_error\n",
      "          raise ParserSyntaxError(\n",
      "      setuptools.extern.packaging._tokenizer.ParserSyntaxError: Expected end or semicolon (after name and no valid version specifier)\n",
      "          python_version>\"3.7\"\n",
      "                        ^\n",
      "      \n",
      "      The above exception was the direct cause of the following exception:\n",
      "      \n",
      "      Traceback (most recent call last):\n",
      "        File \"C:\\Users\\sinea\\AppData\\Local\\Packages\\PythonSoftwareFoundation.Python.3.8_qbz5n2kfra8p0\\LocalCache\\local-packages\\Python38\\site-packages\\pip\\_vendor\\pyproject_hooks\\_in_process\\_in_process.py\", line 353, in <module>\n",
      "          main()\n",
      "        File \"C:\\Users\\sinea\\AppData\\Local\\Packages\\PythonSoftwareFoundation.Python.3.8_qbz5n2kfra8p0\\LocalCache\\local-packages\\Python38\\site-packages\\pip\\_vendor\\pyproject_hooks\\_in_process\\_in_process.py\", line 335, in main\n",
      "          json_out['return_val'] = hook(**hook_input['kwargs'])\n",
      "        File \"C:\\Users\\sinea\\AppData\\Local\\Packages\\PythonSoftwareFoundation.Python.3.8_qbz5n2kfra8p0\\LocalCache\\local-packages\\Python38\\site-packages\\pip\\_vendor\\pyproject_hooks\\_in_process\\_in_process.py\", line 118, in get_requires_for_build_wheel\n",
      "          return hook(config_settings)\n",
      "        File \"C:\\Users\\sinea\\AppData\\Local\\Temp\\pip-build-env-so66917l\\overlay\\Lib\\site-packages\\setuptools\\build_meta.py\", line 355, in get_requires_for_build_wheel\n",
      "          return self._get_build_requires(config_settings, requirements=['wheel'])\n",
      "        File \"C:\\Users\\sinea\\AppData\\Local\\Temp\\pip-build-env-so66917l\\overlay\\Lib\\site-packages\\setuptools\\build_meta.py\", line 325, in _get_build_requires\n",
      "          self.run_setup()\n",
      "        File \"C:\\Users\\sinea\\AppData\\Local\\Temp\\pip-build-env-so66917l\\overlay\\Lib\\site-packages\\setuptools\\build_meta.py\", line 507, in run_setup\n",
      "          super(_BuildMetaLegacyBackend, self).run_setup(setup_script=setup_script)\n",
      "        File \"C:\\Users\\sinea\\AppData\\Local\\Temp\\pip-build-env-so66917l\\overlay\\Lib\\site-packages\\setuptools\\build_meta.py\", line 341, in run_setup\n",
      "          exec(code, locals())\n",
      "        File \"<string>\", line 40, in <module>\n",
      "        File \"C:\\Users\\sinea\\AppData\\Local\\Temp\\pip-build-env-so66917l\\overlay\\Lib\\site-packages\\setuptools\\__init__.py\", line 102, in setup\n",
      "          _install_setup_requires(attrs)\n",
      "        File \"C:\\Users\\sinea\\AppData\\Local\\Temp\\pip-build-env-so66917l\\overlay\\Lib\\site-packages\\setuptools\\__init__.py\", line 73, in _install_setup_requires\n",
      "          dist.parse_config_files(ignore_option_errors=True)\n",
      "        File \"C:\\Users\\sinea\\AppData\\Local\\Temp\\pip-build-env-so66917l\\overlay\\Lib\\site-packages\\setuptools\\dist.py\", line 655, in parse_config_files\n",
      "          self._finalize_requires()\n",
      "        File \"C:\\Users\\sinea\\AppData\\Local\\Temp\\pip-build-env-so66917l\\overlay\\Lib\\site-packages\\setuptools\\dist.py\", line 390, in _finalize_requires\n",
      "          self._normalize_requires()\n",
      "        File \"C:\\Users\\sinea\\AppData\\Local\\Temp\\pip-build-env-so66917l\\overlay\\Lib\\site-packages\\setuptools\\dist.py\", line 405, in _normalize_requires\n",
      "          self.install_requires = list(map(str, _reqs.parse(install_requires)))\n",
      "        File \"C:\\Users\\sinea\\AppData\\Local\\Temp\\pip-build-env-so66917l\\overlay\\Lib\\site-packages\\setuptools\\_vendor\\packaging\\requirements.py\", line 37, in __init__\n",
      "          raise InvalidRequirement(str(e)) from e\n",
      "      setuptools.extern.packaging.requirements.InvalidRequirement: Expected end or semicolon (after name and no valid version specifier)\n",
      "          python_version>\"3.7\"\n",
      "                        ^\n",
      "      [end of output]\n",
      "  \n",
      "  note: This error originates from a subprocess, and is likely not a problem with pip.\n",
      "error: subprocess-exited-with-error\n",
      "\n",
      "× Getting requirements to build wheel did not run successfully.\n",
      "│ exit code: 1\n",
      "╰─> See above for output.\n",
      "\n",
      "note: This error originates from a subprocess, and is likely not a problem with pip.\n",
      "\n",
      "[notice] A new release of pip is available: 23.2 -> 23.3.1\n",
      "[notice] To update, run: C:\\Users\\sinea\\AppData\\Local\\Microsoft\\WindowsApps\\PythonSoftwareFoundation.Python.3.8_qbz5n2kfra8p0\\python.exe -m pip install --upgrade pip\n"
     ]
    }
   ],
   "source": [
    "%pip install labelme albumentations tensorflow tensorflow-gpu opencv-python matplotlib"
   ]
  },
  {
   "cell_type": "code",
   "execution_count": 1,
   "metadata": {},
   "outputs": [],
   "source": [
    "#import required libraries\n",
    "\n",
    "import cv2\n",
    "import os\n",
    "import time\n",
    "import uuid #uniform unique identifier, create unique filenames\n",
    "\n",
    "import tensorflow as tf\n",
    "import json\n",
    "import numpy as np\n",
    "from matplotlib import pyplot as plt\n",
    "\n",
    "import splitfolders"
   ]
  },
  {
   "cell_type": "code",
   "execution_count": 5,
   "metadata": {},
   "outputs": [
    {
     "name": "stderr",
     "output_type": "stream",
     "text": [
      "[INFO   ] __init__:get_config:70 - Loading config file from: C:\\Users\\sinea\\.labelmerc\n"
     ]
    }
   ],
   "source": [
    "!labelme  #opens gui where can tag images"
   ]
  },
  {
   "cell_type": "markdown",
   "metadata": {},
   "source": [
    "Limit GPU memory growth"
   ]
  },
  {
   "cell_type": "code",
   "execution_count": 12,
   "metadata": {},
   "outputs": [],
   "source": [
    "#to ensure we don't get too many out of memory errors, set GPU consumption growth\n",
    "\n",
    "gpus = tf.config.experimental.list_physical_devices('GPU')\n",
    "\n",
    "for gpu in gpus:\n",
    "    tf.config.experimental.set_memory_growth(gpu, True)"
   ]
  },
  {
   "cell_type": "code",
   "execution_count": 15,
   "metadata": {},
   "outputs": [
    {
     "data": {
      "text/plain": [
       "[]"
      ]
     },
     "execution_count": 15,
     "metadata": {},
     "output_type": "execute_result"
    }
   ],
   "source": [
    "tf.config.list_physical_devices('GPU') "
   ]
  },
  {
   "cell_type": "markdown",
   "metadata": {},
   "source": [
    "Turns out there are no GPU's available anyway"
   ]
  },
  {
   "cell_type": "markdown",
   "metadata": {},
   "source": [
    "### Load images into TF data pipeline"
   ]
  },
  {
   "cell_type": "code",
   "execution_count": 2,
   "metadata": {},
   "outputs": [],
   "source": [
    "images = tf.data.Dataset.list_files('data\\\\images\\\\*.jpg', shuffle=False)"
   ]
  },
  {
   "cell_type": "code",
   "execution_count": 3,
   "metadata": {},
   "outputs": [],
   "source": [
    "#function to load images\n",
    "def load_images(x):\n",
    "    byte_img = tf.io.read_file(x)\n",
    "    img = tf.io.decode_jpeg(byte_img)\n",
    "    img = tf.image.resize(img,[1200, 1575], method=tf.image.ResizeMethod.NEAREST_NEIGHBOR)  #resize the images so can add to batch later on\n",
    "    return img"
   ]
  },
  {
   "cell_type": "code",
   "execution_count": 4,
   "metadata": {},
   "outputs": [],
   "source": [
    "images = images.map(load_images)"
   ]
  },
  {
   "cell_type": "code",
   "execution_count": 5,
   "metadata": {},
   "outputs": [
    {
     "data": {
      "text/plain": [
       "array([[[255, 255, 255],\n",
       "        [255, 255, 255],\n",
       "        [249, 249, 249],\n",
       "        ...,\n",
       "        [235, 235, 235],\n",
       "        [243, 243, 243],\n",
       "        [246, 246, 246]],\n",
       "\n",
       "       [[  0,   0,   0],\n",
       "        [ 14,  14,  14],\n",
       "        [ 21,  21,  21],\n",
       "        ...,\n",
       "        [255, 255, 255],\n",
       "        [243, 243, 243],\n",
       "        [243, 243, 243]],\n",
       "\n",
       "       [[  0,   0,   0],\n",
       "        [  7,   7,   7],\n",
       "        [  8,   8,   8],\n",
       "        ...,\n",
       "        [255, 255, 255],\n",
       "        [250, 250, 250],\n",
       "        [252, 252, 252]],\n",
       "\n",
       "       ...,\n",
       "\n",
       "       [[255, 255, 255],\n",
       "        [255, 255, 255],\n",
       "        [255, 255, 255],\n",
       "        ...,\n",
       "        [ 20,  20,  20],\n",
       "        [  3,   3,   3],\n",
       "        [249, 249, 249]],\n",
       "\n",
       "       [[255, 255, 255],\n",
       "        [255, 255, 255],\n",
       "        [255, 255, 255],\n",
       "        ...,\n",
       "        [255, 255, 255],\n",
       "        [255, 255, 255],\n",
       "        [251, 251, 251]],\n",
       "\n",
       "       [[255, 255, 255],\n",
       "        [255, 255, 255],\n",
       "        [255, 255, 255],\n",
       "        ...,\n",
       "        [255, 255, 255],\n",
       "        [255, 255, 255],\n",
       "        [255, 255, 255]]], dtype=uint8)"
      ]
     },
     "execution_count": 5,
     "metadata": {},
     "output_type": "execute_result"
    }
   ],
   "source": [
    " images.as_numpy_iterator().next()"
   ]
  },
  {
   "cell_type": "markdown",
   "metadata": {},
   "source": [
    "Visualise images with matplotlib"
   ]
  },
  {
   "cell_type": "code",
   "execution_count": 6,
   "metadata": {},
   "outputs": [],
   "source": [
    "img_generator = images.batch(4).as_numpy_iterator()  #images generate 4 images at a time"
   ]
  },
  {
   "cell_type": "code",
   "execution_count": 7,
   "metadata": {},
   "outputs": [
    {
     "data": {
      "image/png": "[encoded data removed]",
      "text/plain": [
       "<Figure size 1200x1000 with 4 Axes>"
      ]
     },
     "metadata": {},
     "output_type": "display_data"
    }
   ],
   "source": [
    "fig, ax = plt.subplots(ncols=4, figsize=(12,10))\n",
    "\n",
    "ax = ax.flatten()\n",
    "for idx, image in enumerate(img_generator.next()):\n",
    "    ax[idx].imshow(image)\n",
    "plt.show()"
   ]
  },
  {
   "cell_type": "markdown",
   "metadata": {},
   "source": [
    "Split into train, test and val datasets\n",
    "\n",
    "- 80% for training\n",
    "- 10% for testing\n",
    "- 10% for validation"
   ]
  },
  {
   "cell_type": "code",
   "execution_count": 20,
   "metadata": {},
   "outputs": [
    {
     "name": "stderr",
     "output_type": "stream",
     "text": [
      "Copying files: 478 files [00:01, 421.12 files/s]\n"
     ]
    }
   ],
   "source": [
    "splitfolders.ratio('data', output=\"data\", seed=1337, ratio=(0.8, 0.1,0.1))"
   ]
  },
  {
   "cell_type": "markdown",
   "metadata": {},
   "source": [
    "# Augment images to create larger dataset"
   ]
  },
  {
   "cell_type": "code",
   "execution_count": 21,
   "metadata": {},
   "outputs": [],
   "source": [
    "import albumentations as alb"
   ]
  },
  {
   "cell_type": "code",
   "execution_count": 48,
   "metadata": {},
   "outputs": [],
   "source": [
    "#define augmentation pipeline\n",
    "\n",
    "transformer = alb.Compose([alb.HorizontalFlip(p=0.5), alb.RandomBrightnessContrast(p=0.2),\n",
    "                          alb.VerticalFlip(p=0.5), alb.RandomGamma(p=0.2)],\n",
    "                          bbox_params=alb.BboxParams(format='albumentations', label_fields=['class_labels']))"
   ]
  },
  {
   "cell_type": "code",
   "execution_count": 103,
   "metadata": {},
   "outputs": [
    {
     "name": "stdout",
     "output_type": "stream",
     "text": [
      "Expected x_min for bbox [1.8926339285714282, 3.522767857142857, 2.746428571428571, 3.9319940476190474, 'Signature'] to be in the range [0.0, 1.0], got 1.8926339285714282.\n",
      "Expected y_min for bbox [0.9401939655172413, 1.5328663793103448, 1.5490301724137931, 1.741199712643678, 'Signature'] to be in the range [0.0, 1.0], got 1.5328663793103448.\n",
      "Expected x_min for bbox [2.4, 6.266666666666667, 3.2875, 6.45, 'Signature'] to be in the range [0.0, 1.0], got 2.4.\n",
      "Expected x_min for bbox [1.4601293103448278, 1.5723778735632183, 1.745689655172414, 1.7950790229885056, 'Signature'] to be in the range [0.0, 1.0], got 1.4601293103448278.\n",
      "Expected y_min for bbox [0.1712962962962962, 2.1195216049382717, 0.8657407407407408, 2.405015432098766, 'Signature'] to be in the range [0.0, 1.0], got 2.1195216049382717.\n",
      "Expected y_min for bbox [0.7435344827586207, 1.8381824712643677, 1.1341594827586206, 1.9710847701149423, 'Signature'] to be in the range [0.0, 1.0], got 1.8381824712643677.\n",
      "Expected y_min for bbox [0.7327586206896551, 1.5005387931034482, 1.3523706896551726, 1.6514008620689653, 'Signature'] to be in the range [0.0, 1.0], got 1.5005387931034482.\n",
      "Expected x_min for bbox [1.0856681034482758, 1.9818606321839078, 1.3820043103448278, 2.1363146551724133, 'Signature'] to be in the range [0.0, 1.0], got 1.0856681034482758.\n",
      "Expected y_min for bbox [0.7758620689655175, 1.5400502873563218, 1.2176724137931036, 1.6514008620689653, 'Signature'] to be in the range [0.0, 1.0], got 1.5400502873563218.\n",
      "Expected x_min for bbox [1.9149553571428573, 5.522767857142857, 2.9696428571428566, 5.760863095238095, 'Signature'] to be in the range [0.0, 1.0], got 1.9149553571428573.\n",
      "Expected y_min for bbox [0.3613425925925927, 5.442631172839506, 1.3046296296296294, 5.913310185185185, 'Signature'] to be in the range [0.0, 1.0], got 5.442631172839506.\n",
      "Expected y_min for bbox [0.9806034482758623, 1.0766882183908044, 1.433189655172414, 1.2491020114942526, 'Signature'] to be in the range [0.0, 1.0], got 1.0766882183908044.\n",
      "Expected x_min for bbox [2.1668981481481477, 4.366975308641974, 3.1333333333333333, 4.691049382716049, 'Signature'] to be in the range [0.0, 1.0], got 2.1668981481481477.\n",
      "Expected y_min for bbox [0.6689814814814813, 4.938194444444444, 1.9363425925925928, 5.509182098765432, 'Signature'] to be in the range [0.0, 1.0], got 4.938194444444444.\n",
      "Expected x_min for bbox [1.0021551724137931, 1.6873204022988506, 1.433189655172414, 2.0213721264367814, 'Signature'] to be in the range [0.0, 1.0], got 1.0021551724137931.\n",
      "Expected y_min for bbox [0.3483974358974361, 2.451602564102564, 1.4341346153846153, 2.7133547008547008, 'Signature'] to be in the range [0.0, 1.0], got 2.451602564102564.\n",
      "Expected x_min for bbox [2.2074074074074073, 5.66099537037037, 3.578935185185185, 6.000501543209876, 'Signature'] to be in the range [0.0, 1.0], got 2.2074074074074073.\n",
      "Expected x_min for bbox [1.0048491379310345, 1.6729525862068966, 1.511314655172414, 1.8597341954022988, 'Signature'] to be in the range [0.0, 1.0], got 1.0048491379310345.\n",
      "Expected y_min for bbox [0.9859913793103449, 1.726831896551724, 1.4924568965517242, 1.8741020114942528, 'Signature'] to be in the range [0.0, 1.0], got 1.726831896551724.\n",
      "Expected y_min for bbox [0.6458333333333333, 1.6059027777777781, 2.040509259259259, 2.0302854938271606, 'Signature'] to be in the range [0.0, 1.0], got 1.6059027777777781.\n",
      "Expected x_min for bbox [1.9077586206896555, 5.495438218390805, 3.486422413793104, 6.019863505747127, 'Signature'] to be in the range [0.0, 1.0], got 1.9077586206896555.\n",
      "Expected x_min for bbox [2.1928879310344827, 2.87176724137931, 3.3728448275862073, 3.1878591954022983, 'Signature'] to be in the range [0.0, 1.0], got 2.1928879310344827.\n",
      "Expected x_min for bbox [1.2899038461538468, 3.0819444444444444, 2.1833333333333336, 3.3383547008547008, 'Signature'] to be in the range [0.0, 1.0], got 1.2899038461538468.\n",
      "Expected x_min for bbox [2.2025462962962967, 2.89320987654321, 3.2557870370370368, 3.2481481481481485, 'Signature'] to be in the range [0.0, 1.0], got 2.2025462962962967.\n",
      "Expected x_min for bbox [1.4181089743589745, 3.7710470085470083, 2.4838141025641027, 4.038141025641026, 'Signature'] to be in the range [0.0, 1.0], got 1.4181089743589745.\n",
      "Expected x_min for bbox [1.5142628205128204, 2.585149572649572, 2.1432692307692305, 2.8415598290598285, 'Signature'] to be in the range [0.0, 1.0], got 1.5142628205128204.\n",
      "Expected y_min for bbox [0.7435344827586207, 4.89044540229885, 1.3900862068965516, 5.249640804597701, 'Signature'] to be in the range [0.0, 1.0], got 4.89044540229885.\n",
      "Expected x_min for bbox [1.7685185185185186, 4.219328703703704, 3.2094907407407405, 4.574266975308642, 'Signature'] to be in the range [0.0, 1.0], got 1.7685185185185186.\n",
      "Expected x_min for bbox [1.7453703703703707, 4.88395061728395, 3.128472222222222, 5.262037037037036, 'Signature'] to be in the range [0.0, 1.0], got 1.7453703703703707.\n",
      "Expected y_min for bbox [0.9173076923076927, 3.79241452991453, 1.7145833333333336, 4.294551282051283, 'Signature'] to be in the range [0.0, 1.0], got 3.79241452991453.\n",
      "Expected x_min for bbox [1.3259615384615386, 2.168482905982906, 1.7506410256410256, 2.622542735042735, 'Signature'] to be in the range [0.0, 1.0], got 1.3259615384615386.\n",
      "Expected y_min for bbox [0.328365384615385, 2.622542735042735, 1.221794871794872, 2.8842948717948715, 'Signature'] to be in the range [0.0, 1.0], got 2.622542735042735.\n",
      "Expected y_min for bbox [0.3483974358974361, 2.8842948717948715, 0.9934294871794875, 3.1300213675213673, 'Signature'] to be in the range [0.0, 1.0], got 2.8842948717948715.\n",
      "Expected x_min for bbox [2.439508928571428, 3.0206845238095235, 3.628125, 3.3555059523809523, 'Signature'] to be in the range [0.0, 1.0], got 2.439508928571428.\n",
      "Expected x_min for bbox [1.4060897435897437, 2.2112179487179486, 2.035096153846154, 2.4195512820512817, 'Signature'] to be in the range [0.0, 1.0], got 1.4060897435897437.\n",
      "Expected x_min for bbox [1.8368303571428573, 4.972321428571429, 3.1649553571428566, 5.366666666666666, 'Signature'] to be in the range [0.0, 1.0], got 1.8368303571428573.\n",
      "Expected x_min for bbox [1.7387931034482762, 5.476903735632184, 3.3497844827586207, 5.915122126436782, 'Signature'] to be in the range [0.0, 1.0], got 1.7387931034482762.\n",
      "Expected x_min for bbox [1.921875, 4.255803571428571, 3.3616071428571432, 4.605505952380953, 'Signature'] to be in the range [0.0, 1.0], got 1.921875.\n",
      "Expected x_min for bbox [2.2734375, 5.5513392857142865, 3.238839285714286, 5.848958333333333, 'Signature'] to be in the range [0.0, 1.0], got 2.2734375.\n",
      "Expected y_min for bbox [0.8432112068965516, 2.359015804597701, 1.2607758620689655, 2.430854885057471, 'Signature'] to be in the range [0.0, 1.0], got 2.359015804597701.\n",
      "Expected y_min for bbox [0.9051724137931035, 2.0788433908045976, 1.4439655172413794, 2.229705459770115, 'Signature'] to be in the range [0.0, 1.0], got 2.0788433908045976.\n",
      "Expected x_min for bbox [1.2979166666666668, 3.3867063492063494, 1.8299107142857145, 3.5900793650793656, 'Signature'] to be in the range [0.0, 1.0], got 1.2979166666666668.\n",
      "Expected x_min for bbox [1.1907327586206897, 1.8812859195402298, 1.427801724137931, 2.0860272988505746, 'Signature'] to be in the range [0.0, 1.0], got 1.1907327586206897.\n",
      "Expected y_min for bbox [0.8890086206896551, 2.2692169540229883, 1.341594827586207, 2.452406609195402, 'Signature'] to be in the range [0.0, 1.0], got 2.2692169540229883.\n",
      "Expected y_min for bbox [0.5821759259259263, 4.9196373456790115, 2.0115740740740735, 5.498341049382716, 'Signature'] to be in the range [0.0, 1.0], got 4.9196373456790115.\n",
      "Expected y_min for bbox [0.9806034482758623, 2.1183548850574714, 1.6082974137931036, 2.3159123563218387, 'Signature'] to be in the range [0.0, 1.0], got 2.1183548850574714.\n",
      "Expected y_min for bbox [0.35240384615384635, 4.064850427350427, 1.0535256410256413, 4.321260683760684, 'Signature'] to be in the range [0.0, 1.0], got 4.064850427350427.\n",
      "Expected x_min for bbox [1.3820512820512825, 2.9110042735042736, 1.9950320512820519, 3.1620726495726497, 'Signature'] to be in the range [0.0, 1.0], got 1.3820512820512825.\n",
      "Expected y_min for bbox [0.15581896551724128, 3.3917025862068964, 1.9284482758620691, 3.923311781609195, 'Signature'] to be in the range [0.0, 1.0], got 3.3917025862068964.\n",
      "Expected y_min for bbox [0.7327586206896551, 2.1866020114942524, 1.4304956896551726, 2.4344468390804592, 'Signature'] to be in the range [0.0, 1.0], got 2.1866020114942524.\n",
      "Expected x_min for bbox [2.127314814814815, 5.413464506172839, 3.660879629629629, 6.663464506172839, 'Signature'] to be in the range [0.0, 1.0], got 2.127314814814815.\n",
      "Expected y_min for bbox [0.9536637931034484, 2.218929597701149, 1.4493534482758623, 2.405711206896551, 'Signature'] to be in the range [0.0, 1.0], got 2.218929597701149.\n",
      "Expected x_min for bbox [2.295138888888889, 4.127777777777778, 2.827546296296296, 4.459567901234568, 'Signature'] to be in the range [0.0, 1.0], got 2.295138888888889.\n",
      "Expected y_min for bbox [0.19214743589743613, 2.649252136752137, 0.8131410256410259, 2.8308760683760683, 'Signature'] to be in the range [0.0, 1.0], got 2.649252136752137.\n",
      "Expected x_min for bbox [2.3060344827586206, 2.87176724137931, 3.3890086206896557, 3.123204022988505, 'Signature'] to be in the range [0.0, 1.0], got 2.3060344827586206.\n",
      "Expected x_min for bbox [1.793526785714286, 4.5375, 3.1662946428571432, 4.961607142857143, 'Signature'] to be in the range [0.0, 1.0], got 1.793526785714286.\n",
      "Expected x_min for bbox [1.8200892857142859, 3.5959821428571432, 3.1147321428571426, 3.997767857142857, 'Signature'] to be in the range [0.0, 1.0], got 1.8200892857142859.\n",
      "Expected y_min for bbox [0.7905092592592592, 3.3493055555555555, 1.8784722222222225, 3.7042438271604943, 'Signature'] to be in the range [0.0, 1.0], got 3.3493055555555555.\n",
      "Expected x_min for bbox [1.0210129310344829, 1.7878951149425286, 1.5140086206896552, 1.967492816091954, 'Signature'] to be in the range [0.0, 1.0], got 1.0210129310344829.\n",
      "Expected x_min for bbox [1.2097756410256413, 3.252884615384615, 1.918910256410257, 3.514636752136752, 'Signature'] to be in the range [0.0, 1.0], got 1.2097756410256413.\n",
      "Expected x_min for bbox [1.536111111111111, 4.312962962962962, 2.1842592592592593, 4.55216049382716, 'Signature'] to be in the range [0.0, 1.0], got 1.536111111111111.\n",
      "Expected x_min for bbox [1.390064102564103, 2.6332264957264955, 2.0591346153846155, 2.916346153846154, 'Signature'] to be in the range [0.0, 1.0], got 1.390064102564103.\n"
     ]
    },
    {
     "ename": "KeyboardInterrupt",
     "evalue": "",
     "output_type": "error",
     "traceback": [
      "\u001b[1;31m---------------------------------------------------------------------------\u001b[0m",
      "\u001b[1;31mKeyboardInterrupt\u001b[0m                         Traceback (most recent call last)",
      "\u001b[1;32mc:\\Users\\sinea\\Documents\\Object detector\\obect_detector.ipynb Cell 22\u001b[0m line \u001b[0;36m3\n\u001b[0;32m      <a href='vscode-notebook-cell:/c%3A/Users/sinea/Documents/Object%20detector/obect_detector.ipynb#X36sZmlsZQ%3D%3D?line=0'>1</a>\u001b[0m \u001b[39mfor\u001b[39;00m partition \u001b[39min\u001b[39;00m [\u001b[39m'\u001b[39m\u001b[39mtrain\u001b[39m\u001b[39m'\u001b[39m,\u001b[39m'\u001b[39m\u001b[39mtest\u001b[39m\u001b[39m'\u001b[39m,\u001b[39m'\u001b[39m\u001b[39mval\u001b[39m\u001b[39m'\u001b[39m]: \n\u001b[0;32m      <a href='vscode-notebook-cell:/c%3A/Users/sinea/Documents/Object%20detector/obect_detector.ipynb#X36sZmlsZQ%3D%3D?line=1'>2</a>\u001b[0m     \u001b[39mfor\u001b[39;00m image \u001b[39min\u001b[39;00m os\u001b[39m.\u001b[39mlistdir(os\u001b[39m.\u001b[39mpath\u001b[39m.\u001b[39mjoin(\u001b[39m'\u001b[39m\u001b[39mdata\u001b[39m\u001b[39m'\u001b[39m, partition, \u001b[39m'\u001b[39m\u001b[39mimages\u001b[39m\u001b[39m'\u001b[39m)):      \u001b[39m#get every image from train, test and val folders\u001b[39;00m\n\u001b[1;32m----> <a href='vscode-notebook-cell:/c%3A/Users/sinea/Documents/Object%20detector/obect_detector.ipynb#X36sZmlsZQ%3D%3D?line=2'>3</a>\u001b[0m         img \u001b[39m=\u001b[39m cv2\u001b[39m.\u001b[39;49mimread(os\u001b[39m.\u001b[39;49mpath\u001b[39m.\u001b[39;49mjoin(\u001b[39m'\u001b[39;49m\u001b[39mdata\u001b[39;49m\u001b[39m'\u001b[39;49m, partition, \u001b[39m'\u001b[39;49m\u001b[39mimages\u001b[39;49m\u001b[39m'\u001b[39;49m, image))\n\u001b[0;32m      <a href='vscode-notebook-cell:/c%3A/Users/sinea/Documents/Object%20detector/obect_detector.ipynb#X36sZmlsZQ%3D%3D?line=4'>5</a>\u001b[0m         coords \u001b[39m=\u001b[39m [\u001b[39m0\u001b[39m,\u001b[39m0\u001b[39m,\u001b[39m0.00001\u001b[39m,\u001b[39m0.00001\u001b[39m]    \u001b[39m#default label is no label exists\u001b[39;00m\n\u001b[0;32m      <a href='vscode-notebook-cell:/c%3A/Users/sinea/Documents/Object%20detector/obect_detector.ipynb#X36sZmlsZQ%3D%3D?line=5'>6</a>\u001b[0m         label_path \u001b[39m=\u001b[39m os\u001b[39m.\u001b[39mpath\u001b[39m.\u001b[39mjoin(\u001b[39m'\u001b[39m\u001b[39mdata\u001b[39m\u001b[39m'\u001b[39m, partition, \u001b[39m'\u001b[39m\u001b[39mlabels\u001b[39m\u001b[39m'\u001b[39m, \u001b[39mf\u001b[39m\u001b[39m'\u001b[39m\u001b[39m{\u001b[39;00mimage\u001b[39m.\u001b[39msplit(\u001b[39m\"\u001b[39m\u001b[39m.\u001b[39m\u001b[39m\"\u001b[39m)[\u001b[39m0\u001b[39m]\u001b[39m}\u001b[39;00m\u001b[39m.json\u001b[39m\u001b[39m'\u001b[39m)\n",
      "\u001b[1;31mKeyboardInterrupt\u001b[0m: "
     ]
    }
   ],
   "source": [
    "for partition in ['train','test','val']: \n",
    "    for image in os.listdir(os.path.join('data', partition, 'images')):      #get every image from train, test and val folders\n",
    "        img = cv2.imread(os.path.join('data', partition, 'images', image))\n",
    "\n",
    "        coords = [0,0,0.00001,0.00001]    #default label is no label exists\n",
    "        label_path = os.path.join('data', partition, 'labels', f'{image.split(\".\")[0]}.json')\n",
    "        if os.path.exists(label_path):                                 #check if label exists for image as not all have signatures\n",
    "            with open(label_path, 'r') as f:\n",
    "                label = json.load(f)\n",
    "\n",
    "            coords[0] = label['shapes'][0]['points'][0][0]\n",
    "            coords[1] = label['shapes'][0]['points'][0][1]\n",
    "            coords[2] = label['shapes'][0]['points'][1][0]\n",
    "            coords[3] = label['shapes'][0]['points'][1][1]     #extract coordinates from json label file and change into vector \n",
    "            coords = list(np.divide(coords, [img.shape[1], img.shape[0], img.shape[1], img.shape[0]]))\n",
    "\n",
    "        try: \n",
    "            for x in range(10):   #create 10 augmented images for each image\n",
    "                augmented = transformer(image=img, bboxes=[coords], class_labels=[\"Signature\"])\n",
    "                cv2.imwrite(os.path.join('aug_data', partition, 'images', f'{image.split(\".\")[0]}.{x}.jpg'), augmented['image'])\n",
    "\n",
    "                annotation = {}\n",
    "                annotation['image'] = image\n",
    "\n",
    "                if os.path.exists(label_path):\n",
    "                    if len(augmented['bboxes']) == 0: \n",
    "                        annotation['bbox'] = [0,0,0,0]\n",
    "                        annotation['class'] = 0    #if no label then set class to 0\n",
    "                    else: \n",
    "                        annotation['bbox'] = augmented['bboxes'][0]   #transform the labels\n",
    "                        annotation['class'] = 1\n",
    "                else: \n",
    "                    annotation['bbox'] = [0,0,0,0]\n",
    "                    annotation['class'] = 0 \n",
    "\n",
    "\n",
    "                with open(os.path.join('aug_data', partition, 'labels', f'{image.split(\".\")[0]}.{x}.json'), 'w') as f:\n",
    "                    json.dump(annotation, f)  #write new annotations down\n",
    "\n",
    "        except Exception as e:\n",
    "            print(e)"
   ]
  },
  {
   "cell_type": "markdown",
   "metadata": {},
   "source": [
    "# Load augmented data into tf dataset"
   ]
  },
  {
   "cell_type": "code",
   "execution_count": 81,
   "metadata": {},
   "outputs": [],
   "source": [
    "def load_image(x): \n",
    "    byte_img = tf.io.read_file(x)\n",
    "    img = tf.io.decode_jpeg(byte_img)\n",
    "    return img"
   ]
  },
  {
   "cell_type": "code",
   "execution_count": 119,
   "metadata": {},
   "outputs": [],
   "source": [
    "train_images = tf.data.Dataset.list_files('aug_data\\\\train\\\\images\\\\*.jpg', shuffle=False)\n",
    "train_images = train_images.map(load_image)\n",
    "train_images = train_images.map(lambda x: tf.image.resize(x, (240,200)))  #compress files so nn is more efficient \n",
    "train_images = train_images.map(lambda x: x/255)  #scale image so we can apply sigmoid activation, values between (0,1) "
   ]
  },
  {
   "cell_type": "code",
   "execution_count": 120,
   "metadata": {},
   "outputs": [],
   "source": [
    "test_images = tf.data.Dataset.list_files('aug_data\\\\test\\\\images\\\\*.jpg', shuffle=False)\n",
    "test_images = test_images.map(load_image)\n",
    "test_images = test_images.map(lambda x: tf.image.resize(x, (240,200)))\n",
    "test_images = test_images.map(lambda x: x/255)"
   ]
  },
  {
   "cell_type": "code",
   "execution_count": 121,
   "metadata": {},
   "outputs": [],
   "source": [
    "val_images = tf.data.Dataset.list_files('aug_data\\\\val\\\\images\\\\*.jpg', shuffle=False)\n",
    "val_images = val_images.map(load_image)\n",
    "val_images = val_images.map(lambda x: tf.image.resize(x, (240,200)))\n",
    "val_images = val_images.map(lambda x: x/255)"
   ]
  },
  {
   "cell_type": "markdown",
   "metadata": {},
   "source": [
    "# Prepare the labels"
   ]
  },
  {
   "cell_type": "code",
   "execution_count": 122,
   "metadata": {},
   "outputs": [],
   "source": [
    "def load_labels(label_path):\n",
    "    with open(label_path.numpy(), 'r', encoding = \"utf-8\") as f:\n",
    "        label = json.load(f)\n",
    "        \n",
    "    return [label['class']], label['bbox']  #exatrct class and bounding box"
   ]
  },
  {
   "cell_type": "code",
   "execution_count": 123,
   "metadata": {},
   "outputs": [],
   "source": [
    "train_labels = tf.data.Dataset.list_files('aug_data\\\\train\\\\labels\\\\*.json', shuffle=False)\n",
    "train_labels = train_labels.map(lambda x: tf.py_function(load_labels, [x], [tf.uint8, tf.float16]))   #passes file path and returns class and coords"
   ]
  },
  {
   "cell_type": "code",
   "execution_count": 124,
   "metadata": {},
   "outputs": [],
   "source": [
    "test_labels = tf.data.Dataset.list_files('aug_data\\\\test\\\\labels\\\\*.json', shuffle=False)\n",
    "test_labels = test_labels.map(lambda x: tf.py_function(load_labels, [x], [tf.uint8, tf.float16]))"
   ]
  },
  {
   "cell_type": "code",
   "execution_count": 125,
   "metadata": {},
   "outputs": [],
   "source": [
    "val_labels = tf.data.Dataset.list_files('aug_data\\\\val\\\\labels\\\\*.json', shuffle=False)\n",
    "val_labels = val_labels.map(lambda x: tf.py_function(load_labels, [x], [tf.uint8, tf.float16]))"
   ]
  },
  {
   "cell_type": "markdown",
   "metadata": {},
   "source": [
    "Combine label and images"
   ]
  },
  {
   "cell_type": "code",
   "execution_count": 126,
   "metadata": {},
   "outputs": [
    {
     "data": {
      "text/plain": [
       "(2400, 2400, 300, 300, 290, 290)"
      ]
     },
     "execution_count": 126,
     "metadata": {},
     "output_type": "execute_result"
    }
   ],
   "source": [
    "len(train_images), len(train_labels), len(test_images), len(test_labels), len(val_images), len(val_labels)"
   ]
  },
  {
   "cell_type": "code",
   "execution_count": 127,
   "metadata": {},
   "outputs": [],
   "source": [
    "train = tf.data.Dataset.zip((train_images, train_labels))  #zip combines the img and labels\n",
    "train = train.shuffle(7000)\n",
    "train = train.batch(8)\n",
    "train = train.prefetch(4)   #prevents bottlenecks when loading/training"
   ]
  },
  {
   "cell_type": "code",
   "execution_count": 128,
   "metadata": {},
   "outputs": [],
   "source": [
    "test = tf.data.Dataset.zip((test_images, test_labels))\n",
    "test = test.shuffle(1500)\n",
    "test = test.batch(8)\n",
    "test = test.prefetch(4)"
   ]
  },
  {
   "cell_type": "code",
   "execution_count": 129,
   "metadata": {},
   "outputs": [],
   "source": [
    "val = tf.data.Dataset.zip((val_images, val_labels))\n",
    "val = val.shuffle(1200)\n",
    "val = val.batch(8)\n",
    "val = val.prefetch(4)"
   ]
  },
  {
   "cell_type": "code",
   "execution_count": 153,
   "metadata": {},
   "outputs": [
    {
     "data": {
      "text/plain": [
       "(array([[1],\n",
       "        [1],\n",
       "        [0],\n",
       "        [1],\n",
       "        [0],\n",
       "        [1],\n",
       "        [1],\n",
       "        [1]], dtype=uint8),\n",
       " array([[0.4841, 0.4934, 0.767 , 0.56  ],\n",
       "        [0.5225, 0.4016, 0.754 , 0.4731],\n",
       "        [0.    , 0.    , 0.    , 0.    ],\n",
       "        [0.1455, 0.1931, 0.503 , 0.278 ],\n",
       "        [0.    , 0.    , 0.    , 0.    ],\n",
       "        [0.526 , 0.384 , 0.776 , 0.4353],\n",
       "        [0.0915, 0.5635, 0.3918, 0.617 ],\n",
       "        [0.1796, 0.442 , 0.503 , 0.4956]], dtype=float16))"
      ]
     },
     "execution_count": 153,
     "metadata": {},
     "output_type": "execute_result"
    }
   ],
   "source": [
    "train.as_numpy_iterator().next()[1]"
   ]
  },
  {
   "cell_type": "markdown",
   "metadata": {},
   "source": [
    "Check images and annotations all look okay"
   ]
  },
  {
   "cell_type": "code",
   "execution_count": 98,
   "metadata": {},
   "outputs": [],
   "source": [
    "from tensorflow.keras.models import Model\n",
    "from tensorflow.keras.layers import Input, Conv2D, Dense, GlobalMaxPooling2D\n",
    "from tensorflow.keras.applications import VGG16"
   ]
  },
  {
   "cell_type": "code",
   "execution_count": 154,
   "metadata": {},
   "outputs": [
    {
     "name": "stdout",
     "output_type": "stream",
     "text": [
      "Downloading data from https://storage.googleapis.com/tensorflow/keras-applications/vgg16/vgg16_weights_tf_dim_ordering_tf_kernels_notop.h5\n",
      "58889256/58889256 [==============================] - 7s 0us/step\n",
      "Model: \"vgg16\"\n",
      "_________________________________________________________________\n",
      " Layer (type)                Output Shape              Param #   \n",
      "=================================================================\n",
      " input_1 (InputLayer)        [(None, None, None, 3)]   0         \n",
      "                                                                 \n",
      " block1_conv1 (Conv2D)       (None, None, None, 64)    1792      \n",
      "                                                                 \n",
      " block1_conv2 (Conv2D)       (None, None, None, 64)    36928     \n",
      "                                                                 \n",
      " block1_pool (MaxPooling2D)  (None, None, None, 64)    0         \n",
      "                                                                 \n",
      " block2_conv1 (Conv2D)       (None, None, None, 128)   73856     \n",
      "                                                                 \n",
      " block2_conv2 (Conv2D)       (None, None, None, 128)   147584    \n",
      "                                                                 \n",
      " block2_pool (MaxPooling2D)  (None, None, None, 128)   0         \n",
      "                                                                 \n",
      " block3_conv1 (Conv2D)       (None, None, None, 256)   295168    \n",
      "                                                                 \n",
      " block3_conv2 (Conv2D)       (None, None, None, 256)   590080    \n",
      "                                                                 \n",
      " block3_conv3 (Conv2D)       (None, None, None, 256)   590080    \n",
      "                                                                 \n",
      " block3_pool (MaxPooling2D)  (None, None, None, 256)   0         \n",
      "                                                                 \n",
      " block4_conv1 (Conv2D)       (None, None, None, 512)   1180160   \n",
      "                                                                 \n",
      " block4_conv2 (Conv2D)       (None, None, None, 512)   2359808   \n",
      "                                                                 \n",
      " block4_conv3 (Conv2D)       (None, None, None, 512)   2359808   \n",
      "                                                                 \n",
      " block4_pool (MaxPooling2D)  (None, None, None, 512)   0         \n",
      "                                                                 \n",
      " block5_conv1 (Conv2D)       (None, None, None, 512)   2359808   \n",
      "                                                                 \n",
      " block5_conv2 (Conv2D)       (None, None, None, 512)   2359808   \n",
      "                                                                 \n",
      " block5_conv3 (Conv2D)       (None, None, None, 512)   2359808   \n",
      "                                                                 \n",
      " block5_pool (MaxPooling2D)  (None, None, None, 512)   0         \n",
      "                                                                 \n",
      "=================================================================\n",
      "Total params: 14714688 (56.13 MB)\n",
      "Trainable params: 14714688 (56.13 MB)\n",
      "Non-trainable params: 0 (0.00 Byte)\n",
      "_________________________________________________________________\n"
     ]
    }
   ],
   "source": [
    "vgg = VGG16(include_top=False)\n",
    "vgg.summary()"
   ]
  },
  {
   "cell_type": "code",
   "execution_count": 162,
   "metadata": {},
   "outputs": [],
   "source": [
    "def build_model(): \n",
    "    input_layer = Input(shape=(240,200,3))\n",
    "    \n",
    "    vgg = VGG16(include_top=False)(input_layer)\n",
    "\n",
    "    # Classification Model  \n",
    "    f1 = GlobalMaxPooling2D()(vgg)\n",
    "    class1 = Dense(2048, activation='relu')(f1)\n",
    "    class2 = Dense(1, activation='sigmoid')(class1)\n",
    "    \n",
    "    # Bounding box model\n",
    "    f2 = GlobalMaxPooling2D()(vgg)\n",
    "    regress1 = Dense(2048, activation='relu')(f2)\n",
    "    regress2 = Dense(4, activation='sigmoid')(regress1)\n",
    "    \n",
    "    sig_detection = Model(inputs=input_layer, outputs=[class2, regress2])\n",
    "    return sig_detection"
   ]
  },
  {
   "cell_type": "code",
   "execution_count": 163,
   "metadata": {},
   "outputs": [],
   "source": [
    "sig_detection = build_model()"
   ]
  },
  {
   "cell_type": "code",
   "execution_count": 164,
   "metadata": {},
   "outputs": [
    {
     "name": "stdout",
     "output_type": "stream",
     "text": [
      "Model: \"model_1\"\n",
      "__________________________________________________________________________________________________\n",
      " Layer (type)                Output Shape                 Param #   Connected to                  \n",
      "==================================================================================================\n",
      " input_4 (InputLayer)        [(None, 240, 200, 3)]        0         []                            \n",
      "                                                                                                  \n",
      " vgg16 (Functional)          (None, None, None, 512)      1471468   ['input_4[0][0]']             \n",
      "                                                          8                                       \n",
      "                                                                                                  \n",
      " global_max_pooling2d_2 (Gl  (None, 512)                  0         ['vgg16[0][0]']               \n",
      " obalMaxPooling2D)                                                                                \n",
      "                                                                                                  \n",
      " global_max_pooling2d_3 (Gl  (None, 512)                  0         ['vgg16[0][0]']               \n",
      " obalMaxPooling2D)                                                                                \n",
      "                                                                                                  \n",
      " dense_4 (Dense)             (None, 2048)                 1050624   ['global_max_pooling2d_2[0][0]\n",
      "                                                                    ']                            \n",
      "                                                                                                  \n",
      " dense_6 (Dense)             (None, 2048)                 1050624   ['global_max_pooling2d_3[0][0]\n",
      "                                                                    ']                            \n",
      "                                                                                                  \n",
      " dense_5 (Dense)             (None, 1)                    2049      ['dense_4[0][0]']             \n",
      "                                                                                                  \n",
      " dense_7 (Dense)             (None, 4)                    8196      ['dense_6[0][0]']             \n",
      "                                                                                                  \n",
      "==================================================================================================\n",
      "Total params: 16826181 (64.19 MB)\n",
      "Trainable params: 16826181 (64.19 MB)\n",
      "Non-trainable params: 0 (0.00 Byte)\n",
      "__________________________________________________________________________________________________\n"
     ]
    }
   ],
   "source": [
    "sig_detection.summary()"
   ]
  },
  {
   "cell_type": "code",
   "execution_count": 165,
   "metadata": {},
   "outputs": [],
   "source": [
    "X, y = train.as_numpy_iterator().next()"
   ]
  },
  {
   "cell_type": "code",
   "execution_count": 166,
   "metadata": {},
   "outputs": [
    {
     "data": {
      "text/plain": [
       "(8, 240, 200, 3)"
      ]
     },
     "execution_count": 166,
     "metadata": {},
     "output_type": "execute_result"
    }
   ],
   "source": [
    "X.shape"
   ]
  },
  {
   "cell_type": "code",
   "execution_count": 167,
   "metadata": {},
   "outputs": [
    {
     "name": "stdout",
     "output_type": "stream",
     "text": [
      "1/1 [==============================] - 1s 789ms/step\n"
     ]
    }
   ],
   "source": [
    "classes, coords = sig_detection.predict(X)"
   ]
  },
  {
   "cell_type": "code",
   "execution_count": 168,
   "metadata": {},
   "outputs": [
    {
     "data": {
      "text/plain": [
       "(array([[0.3892813 ],\n",
       "        [0.41324106],\n",
       "        [0.35104743],\n",
       "        [0.4107137 ],\n",
       "        [0.46142554],\n",
       "        [0.45618197],\n",
       "        [0.5024703 ],\n",
       "        [0.487561  ]], dtype=float32),\n",
       " array([[0.44008335, 0.51669765, 0.5858312 , 0.6413215 ],\n",
       "        [0.45545077, 0.49306476, 0.58157945, 0.63909113],\n",
       "        [0.41760227, 0.39508963, 0.67888194, 0.665082  ],\n",
       "        [0.4609615 , 0.5111497 , 0.6265268 , 0.5934958 ],\n",
       "        [0.39123067, 0.45761445, 0.57175666, 0.6470399 ],\n",
       "        [0.43217814, 0.55210656, 0.58369416, 0.6555018 ],\n",
       "        [0.45206547, 0.5334295 , 0.625453  , 0.64527184],\n",
       "        [0.38488942, 0.46020618, 0.62720203, 0.6502805 ]], dtype=float32))"
      ]
     },
     "execution_count": 168,
     "metadata": {},
     "output_type": "execute_result"
    }
   ],
   "source": [
    "classes, coords"
   ]
  },
  {
   "cell_type": "markdown",
   "metadata": {},
   "source": [
    "define optimiser and learning rate"
   ]
  },
  {
   "cell_type": "code",
   "execution_count": 169,
   "metadata": {},
   "outputs": [],
   "source": [
    "batches_per_epoch = len(train)\n",
    "lr_decay = (1./0.75 -1)/batches_per_epoch"
   ]
  },
  {
   "cell_type": "code",
   "execution_count": 171,
   "metadata": {},
   "outputs": [],
   "source": [
    "opt = tf.keras.optimizers.Adam(learning_rate=0.0001)"
   ]
  },
  {
   "cell_type": "markdown",
   "metadata": {},
   "source": [
    "create localisation loss and classification loss"
   ]
  },
  {
   "cell_type": "code",
   "execution_count": 172,
   "metadata": {},
   "outputs": [],
   "source": [
    "def localization_loss(y_true, yhat):            \n",
    "    delta_coord = tf.reduce_sum(tf.square(y_true[:,:2] - yhat[:,:2]))\n",
    "                  \n",
    "    h_true = y_true[:,3] - y_true[:,1] \n",
    "    w_true = y_true[:,2] - y_true[:,0] \n",
    "\n",
    "    h_pred = yhat[:,3] - yhat[:,1] \n",
    "    w_pred = yhat[:,2] - yhat[:,0] \n",
    "    \n",
    "    delta_size = tf.reduce_sum(tf.square(w_true - w_pred) + tf.square(h_true-h_pred))\n",
    "    \n",
    "    return delta_coord + delta_size"
   ]
  },
  {
   "cell_type": "code",
   "execution_count": 173,
   "metadata": {},
   "outputs": [],
   "source": [
    "classloss = tf.keras.losses.BinaryCrossentropy()\n",
    "regressloss = localization_loss"
   ]
  },
  {
   "cell_type": "markdown",
   "metadata": {},
   "source": [
    "test loss metrics"
   ]
  },
  {
   "cell_type": "code",
   "execution_count": 174,
   "metadata": {},
   "outputs": [
    {
     "data": {
      "text/plain": [
       "<tf.Tensor: shape=(), dtype=float32, numpy=1.8443946>"
      ]
     },
     "execution_count": 174,
     "metadata": {},
     "output_type": "execute_result"
    }
   ],
   "source": [
    "localization_loss(y[1], coords)"
   ]
  },
  {
   "cell_type": "code",
   "execution_count": 175,
   "metadata": {},
   "outputs": [
    {
     "data": {
      "text/plain": [
       "<tf.Tensor: shape=(), dtype=float32, numpy=0.8129045>"
      ]
     },
     "execution_count": 175,
     "metadata": {},
     "output_type": "execute_result"
    }
   ],
   "source": [
    "classloss(y[0], classes)"
   ]
  },
  {
   "cell_type": "code",
   "execution_count": 176,
   "metadata": {},
   "outputs": [
    {
     "data": {
      "text/plain": [
       "<tf.Tensor: shape=(), dtype=float32, numpy=1.8443946>"
      ]
     },
     "execution_count": 176,
     "metadata": {},
     "output_type": "execute_result"
    }
   ],
   "source": [
    "regressloss(y[1], coords)"
   ]
  },
  {
   "cell_type": "code",
   "execution_count": 181,
   "metadata": {},
   "outputs": [],
   "source": [
    "class Sig_detection(Model): \n",
    "\n",
    "    def __init__(self, eyetracker,  **kwargs): \n",
    "        super().__init__(**kwargs)\n",
    "        self.model = eyetracker\n",
    "\n",
    "    def compile(self, opt, classloss, localizationloss, **kwargs):\n",
    "        super().compile(**kwargs)\n",
    "        self.closs = classloss\n",
    "        self.lloss = localizationloss\n",
    "        self.opt = opt\n",
    "    \n",
    "    def train_step(self, batch, **kwargs): \n",
    "        \n",
    "        X, y = batch\n",
    "        \n",
    "        with tf.GradientTape() as tape: \n",
    "            classes, coords = self.model(X, training=True)\n",
    "            \n",
    "            batch_classloss = self.closs(y[0], classes)\n",
    "            batch_localizationloss = self.lloss(tf.cast(y[1], tf.float32), coords)\n",
    "            \n",
    "            total_loss = batch_localizationloss+0.5*batch_classloss\n",
    "            \n",
    "            grad = tape.gradient(total_loss, self.model.trainable_variables)\n",
    "        \n",
    "        opt.apply_gradients(zip(grad, self.model.trainable_variables))\n",
    "        \n",
    "        return {\"total_loss\":total_loss, \"class_loss\":batch_classloss, \"regress_loss\":batch_localizationloss}\n",
    "    \n",
    "    def test_step(self, batch, **kwargs): \n",
    "        X, y = batch\n",
    "        \n",
    "        classes, coords = self.model(X, training=False)\n",
    "        \n",
    "        batch_classloss = self.closs(y[0], classes)\n",
    "        batch_localizationloss = self.lloss(tf.cast(y[1], tf.float32), coords)\n",
    "        total_loss = batch_localizationloss+0.5*batch_classloss\n",
    "        \n",
    "        return {\"total_loss\":total_loss, \"class_loss\":batch_classloss, \"regress_loss\":batch_localizationloss}\n",
    "        \n",
    "    def call(self, X, **kwargs): \n",
    "        return self.model(X, **kwargs)"
   ]
  },
  {
   "cell_type": "code",
   "execution_count": 182,
   "metadata": {},
   "outputs": [],
   "source": [
    "model = Sig_detection(sig_detection)"
   ]
  },
  {
   "cell_type": "code",
   "execution_count": 183,
   "metadata": {},
   "outputs": [],
   "source": [
    "model.compile(opt, classloss, regressloss)"
   ]
  },
  {
   "cell_type": "code",
   "execution_count": 185,
   "metadata": {},
   "outputs": [
    {
     "name": "stdout",
     "output_type": "stream",
     "text": [
      "Epoch 1/3\n"
     ]
    },
    {
     "name": "stdout",
     "output_type": "stream",
     "text": [
      "300/300 [==============================] - 729s 2s/step - total_loss: 1.4720 - class_loss: 0.6369 - regress_loss: 1.1535 - val_total_loss: 0.6939 - val_class_loss: 0.7379 - val_regress_loss: 0.3250\n",
      "Epoch 2/3\n",
      "300/300 [==============================] - 738s 2s/step - total_loss: 1.4174 - class_loss: 0.6142 - regress_loss: 1.1103 - val_total_loss: 0.2066 - val_class_loss: 0.2479 - val_regress_loss: 0.0827\n",
      "Epoch 3/3\n",
      "300/300 [==============================] - 727s 2s/step - total_loss: 1.0599 - class_loss: 0.4452 - regress_loss: 0.8373 - val_total_loss: 0.2596 - val_class_loss: 0.3481 - val_regress_loss: 0.0855\n"
     ]
    }
   ],
   "source": [
    "logdir='logs'\n",
    "tensorboard_callback = tf.keras.callbacks.TensorBoard(log_dir=logdir)\n",
    "hist = model.fit(train, epochs=3, validation_data=val, callbacks=[tensorboard_callback])"
   ]
  },
  {
   "cell_type": "code",
   "execution_count": 186,
   "metadata": {},
   "outputs": [
    {
     "data": {
      "text/plain": [
       "{'total_loss': [1.86199951171875, 1.0616931915283203, 0.39674973487854004],\n",
       " 'class_loss': [0.7520719766616821, 0.41975414752960205, 0.20758368074893951],\n",
       " 'regress_loss': [1.4859634637832642, 0.8518161177635193, 0.2929579019546509],\n",
       " 'val_total_loss': [0.693921685218811, 0.206620454788208, 0.25959402322769165],\n",
       " 'val_class_loss': [0.7379392385482788,\n",
       "  0.24791263043880463,\n",
       "  0.3481334149837494],\n",
       " 'val_regress_loss': [0.32495203614234924,\n",
       "  0.0826641395688057,\n",
       "  0.08552732318639755]}"
      ]
     },
     "execution_count": 186,
     "metadata": {},
     "output_type": "execute_result"
    }
   ],
   "source": [
    "hist.history"
   ]
  },
  {
   "cell_type": "code",
   "execution_count": 187,
   "metadata": {},
   "outputs": [
    {
     "data": {
      "image/png": "[encoded data removed]",
      "text/plain": [
       "<Figure size 2000x500 with 3 Axes>"
      ]
     },
     "metadata": {},
     "output_type": "display_data"
    }
   ],
   "source": [
    "fig, ax = plt.subplots(ncols=3, figsize=(20,5))\n",
    "\n",
    "ax[0].plot(hist.history['total_loss'], color='teal', label='loss')\n",
    "ax[0].plot(hist.history['val_total_loss'], color='orange', label='val loss')\n",
    "ax[0].title.set_text('Loss')\n",
    "ax[0].legend()\n",
    "\n",
    "ax[1].plot(hist.history['class_loss'], color='teal', label='class loss')\n",
    "ax[1].plot(hist.history['val_class_loss'], color='orange', label='val class loss')\n",
    "ax[1].title.set_text('Classification Loss')\n",
    "ax[1].legend()\n",
    "\n",
    "ax[2].plot(hist.history['regress_loss'], color='teal', label='regress loss')\n",
    "ax[2].plot(hist.history['val_regress_loss'], color='orange', label='val regress loss')\n",
    "ax[2].title.set_text('Regression Loss')\n",
    "ax[2].legend()\n",
    "\n",
    "plt.show()"
   ]
  },
  {
   "cell_type": "code",
   "execution_count": null,
   "metadata": {},
   "outputs": [],
   "source": []
  }
 ],
 "metadata": {
  "kernelspec": {
   "display_name": "Python 3",
   "language": "python",
   "name": "python3"
  },
  "language_info": {
   "codemirror_mode": {
    "name": "ipython",
    "version": 3
   },
   "file_extension": ".py",
   "mimetype": "text/x-python",
   "name": "python",
   "nbconvert_exporter": "python",
   "pygments_lexer": "ipython3",
   "version": "3.8.10"
  }
 },
 "nbformat": 4,
 "nbformat_minor": 2
}
